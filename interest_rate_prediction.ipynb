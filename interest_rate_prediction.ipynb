{
 "cells": [
  {
   "cell_type": "code",
   "execution_count": 114,
   "metadata": {
    "collapsed": false
   },
   "outputs": [
    {
     "data": {
      "text/plain": [
       "'0.16.2'"
      ]
     },
     "execution_count": 114,
     "metadata": {},
     "output_type": "execute_result"
    }
   ],
   "source": [
    "import pandas as pd\n",
    "import pandas as pd\n",
    "import numpy as np\n",
    "import matplotlib.pyplot as plt\n",
    "from sklearn.cross_validation import train_test_split\n",
    "from sklearn import linear_model\n",
    "pd.__version__\n"
   ]
  },
  {
   "cell_type": "code",
   "execution_count": 181,
   "metadata": {
    "collapsed": false
   },
   "outputs": [],
   "source": [
    "loan_2015 = pd.read_csv('data/2015.csv')\n",
    "features = ['loan_amnt', 'term', \n",
    "       'emp_length', 'home_ownership', 'annual_inc',\n",
    "       'pymnt_plan','purpose', 'dti', 'delinq_2yrs', 'inq_last_6mths',\n",
    "        'open_acc','pub_rec', 'revol_bal', 'revol_util', 'total_acc',\n",
    "       'acc_now_delinq','total_rev_hi_lim']"
   ]
  },
  {
   "cell_type": "code",
   "execution_count": 182,
   "metadata": {
    "collapsed": false
   },
   "outputs": [
    {
     "data": {
      "text/plain": [
       "0         0.0789\n",
       "1         0.2399\n",
       "2         0.1229\n",
       "3         0.1699\n",
       "4         0.1757\n",
       "5         0.2499\n",
       "6         0.1399\n",
       "7         0.1399\n",
       "8         0.1786\n",
       "9         0.1999\n",
       "10        0.1465\n",
       "11        0.1229\n",
       "12        0.1999\n",
       "13        0.1825\n",
       "14        0.1699\n",
       "15        0.0999\n",
       "16        0.1229\n",
       "17        0.1786\n",
       "18        0.1825\n",
       "19        0.1399\n",
       "20        0.1561\n",
       "21        0.1855\n",
       "22        0.1561\n",
       "23        0.1655\n",
       "24        0.1399\n",
       "25        0.0818\n",
       "26        0.1399\n",
       "27        0.0532\n",
       "28        0.1699\n",
       "29        0.1153\n",
       "           ...  \n",
       "290563    0.1366\n",
       "290564    0.1599\n",
       "290565    0.1786\n",
       "290566    0.1144\n",
       "290567    0.1786\n",
       "290568    0.0819\n",
       "290569    0.1559\n",
       "290570    0.1599\n",
       "290571    0.1559\n",
       "290572    0.0867\n",
       "290573    0.0603\n",
       "290574    0.0819\n",
       "290575    0.0949\n",
       "290576    0.0603\n",
       "290577    0.1431\n",
       "290578    0.1649\n",
       "290579    0.0649\n",
       "290580    0.1499\n",
       "290581    0.0867\n",
       "290582    0.1924\n",
       "290583    0.0949\n",
       "290584    0.1559\n",
       "290585    0.1199\n",
       "290586    0.1199\n",
       "290587    0.1199\n",
       "290588    0.1599\n",
       "290589    0.1999\n",
       "290590    0.1199\n",
       "290591       NaN\n",
       "290592       NaN\n",
       "Name: int_rate_num, dtype: float64"
      ]
     },
     "execution_count": 182,
     "metadata": {},
     "output_type": "execute_result"
    }
   ],
   "source": [
    "loan_2015['int_rate_num'] = [float(str(t).replace(\"%\", \"\"))/100 for t in loan_2015.int_rate]\n",
    "loan_2015.int_rate_num\n"
   ]
  },
  {
   "cell_type": "code",
   "execution_count": 225,
   "metadata": {
    "collapsed": false
   },
   "outputs": [],
   "source": [
    "# if value is float, fill in blank wiht mean, otherwise fill in with sample data\n",
    "\n",
    "for col in features:\n",
    "    if loan_2015[col].dtype == 'float64':\n",
    "        loan_2015[col].fillna(loan_2015[col].mean(), inplace=True)\n",
    "    else:\n",
    "        loan_2015[col].fillna(loan_2015[col].sample(), inplace=True)\n"
   ]
  },
  {
   "cell_type": "code",
   "execution_count": 231,
   "metadata": {
    "collapsed": false
   },
   "outputs": [
    {
     "data": {
      "text/plain": [
       "loan_amnt           False\n",
       "term                 True\n",
       "emp_length           True\n",
       "home_ownership       True\n",
       "annual_inc          False\n",
       "pymnt_plan           True\n",
       "purpose              True\n",
       "dti                 False\n",
       "delinq_2yrs         False\n",
       "inq_last_6mths      False\n",
       "open_acc            False\n",
       "pub_rec             False\n",
       "revol_bal           False\n",
       "revol_util           True\n",
       "total_acc           False\n",
       "acc_now_delinq      False\n",
       "total_rev_hi_lim    False\n",
       "dtype: bool"
      ]
     },
     "execution_count": 231,
     "metadata": {},
     "output_type": "execute_result"
    }
   ],
   "source": [
    "loan_2015[features].isnull().any()"
   ]
  },
  {
   "cell_type": "code",
   "execution_count": 215,
   "metadata": {
    "collapsed": false
   },
   "outputs": [],
   "source": []
  },
  {
   "cell_type": "code",
   "execution_count": 228,
   "metadata": {
    "collapsed": false
   },
   "outputs": [
    {
     "data": {
      "text/plain": [
       "254736     60 months\n",
       "Name: term, dtype: object"
      ]
     },
     "execution_count": 228,
     "metadata": {},
     "output_type": "execute_result"
    }
   ],
   "source": []
  },
  {
   "cell_type": "code",
   "execution_count": 131,
   "metadata": {
    "collapsed": false
   },
   "outputs": [
    {
     "data": {
      "text/plain": [
       "n    290590\n",
       "y         1\n",
       "dtype: int64"
      ]
     },
     "execution_count": 131,
     "metadata": {},
     "output_type": "execute_result"
    }
   ],
   "source": []
  },
  {
   "cell_type": "code",
   "execution_count": 232,
   "metadata": {
    "collapsed": true
   },
   "outputs": [],
   "source": [
    "\n",
    "y = loan_2015[~loan_2015.int_rate_num.isnull()].int_rate_num\n",
    "\n",
    "X = pd.get_dummies(loan_2015.ix[~loan_2015.int_rate_num.isnull(), features])\n",
    "\n"
   ]
  },
  {
   "cell_type": "code",
   "execution_count": 233,
   "metadata": {
    "collapsed": true
   },
   "outputs": [],
   "source": [
    "\n",
    "X_train, X_test, y_train, y_test = train_test_split(X, y)"
   ]
  },
  {
   "cell_type": "code",
   "execution_count": 234,
   "metadata": {
    "collapsed": false
   },
   "outputs": [
    {
     "data": {
      "text/plain": [
       "Ridge(alpha=1.0, copy_X=True, fit_intercept=True, max_iter=None,\n",
       "   normalize=False, solver='auto', tol=0.001)"
      ]
     },
     "execution_count": 234,
     "metadata": {},
     "output_type": "execute_result"
    }
   ],
   "source": [
    "from sklearn.linear_model import Ridge\n",
    "ridge_model = Ridge(alpha=1.0)\n",
    "ridge_model.fit(X_train, y_train)\n"
   ]
  },
  {
   "cell_type": "code",
   "execution_count": 244,
   "metadata": {
    "collapsed": false
   },
   "outputs": [
    {
     "data": {
      "text/plain": [
       "0.42967957325211237"
      ]
     },
     "execution_count": 244,
     "metadata": {},
     "output_type": "execute_result"
    }
   ],
   "source": [
    "# R-sqaured\n",
    "ridge_model.score(X_test,y_test)"
   ]
  },
  {
   "cell_type": "code",
   "execution_count": 246,
   "metadata": {
    "collapsed": false
   },
   "outputs": [],
   "source": [
    "pred = ridge_model.predict(X_test)"
   ]
  },
  {
   "cell_type": "code",
   "execution_count": 247,
   "metadata": {
    "collapsed": false
   },
   "outputs": [],
   "source": [
    "actual = y_test"
   ]
  },
  {
   "cell_type": "code",
   "execution_count": 257,
   "metadata": {
    "collapsed": false
   },
   "outputs": [
    {
     "data": {
      "text/plain": [
       "True     52695\n",
       "False    19953\n",
       "dtype: int64"
      ]
     },
     "execution_count": 257,
     "metadata": {},
     "output_type": "execute_result"
    }
   ],
   "source": [
    "# Prediction within 30% of true values\n",
    "\n",
    "(abs((pred - actual)/actual) < 0.3).value_counts()"
   ]
  },
  {
   "cell_type": "code",
   "execution_count": null,
   "metadata": {
    "collapsed": false
   },
   "outputs": [],
   "source": []
  },
  {
   "cell_type": "code",
   "execution_count": null,
   "metadata": {
    "collapsed": false
   },
   "outputs": [],
   "source": []
  },
  {
   "cell_type": "code",
   "execution_count": null,
   "metadata": {
    "collapsed": false
   },
   "outputs": [],
   "source": []
  },
  {
   "cell_type": "code",
   "execution_count": null,
   "metadata": {
    "collapsed": false
   },
   "outputs": [],
   "source": []
  },
  {
   "cell_type": "code",
   "execution_count": null,
   "metadata": {
    "collapsed": true
   },
   "outputs": [],
   "source": []
  },
  {
   "cell_type": "code",
   "execution_count": null,
   "metadata": {
    "collapsed": true
   },
   "outputs": [],
   "source": []
  }
 ],
 "metadata": {
  "kernelspec": {
   "display_name": "Python 2",
   "language": "python",
   "name": "python2"
  },
  "language_info": {
   "codemirror_mode": {
    "name": "ipython",
    "version": 2
   },
   "file_extension": ".py",
   "mimetype": "text/x-python",
   "name": "python",
   "nbconvert_exporter": "python",
   "pygments_lexer": "ipython2",
   "version": "2.7.10"
  }
 },
 "nbformat": 4,
 "nbformat_minor": 0
}
